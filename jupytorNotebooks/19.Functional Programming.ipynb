{
 "cells": [
  {
   "cell_type": "markdown",
   "metadata": {},
   "source": [
    "# 19. Python Functional Programming\n",
    "\n",
    "### 19-1. 재귀함수 (Recursive Function)\n",
    "\n",
    "- 재귀(Recursion) 알고리즘의 3 가지 조건\n",
    "    1. 재귀함수는 종료조건 (exit condition, terminating condition, base case) 을 포함해야 한다.\n",
    "    2. base case 를 향하여 자신의 status 를 변경한다.\n",
    "    3. 한번이상 자기 자신을 호출한다.\n",
    "\n",
    "### 재귀 연습 1 - Factorial 함수 작성\n",
    "\n",
    "$𝑛!=𝑛⋅(𝑛−1)⋅(𝑛−2)⋯3⋅2⋅1 $\n",
    "\n",
    "1. for loop 사용 : 1 ~ n 까지를 순차적으로 곱한다.\n",
    "\n",
    "\n",
    "2. recursive  방법 사용"
   ]
  },
  {
   "cell_type": "code",
   "execution_count": 1,
   "metadata": {},
   "outputs": [
    {
     "name": "stdout",
     "output_type": "stream",
     "text": [
      "3628800\n"
     ]
    }
   ],
   "source": [
    "# 1. for loop 사용\n",
    "\n",
    "n = 10\n",
    "nn = 1\n",
    "for i in range(1, n+1):\n",
    "    nn *= i\n",
    "print(nn)"
   ]
  },
  {
   "cell_type": "code",
   "execution_count": 2,
   "metadata": {},
   "outputs": [
    {
     "data": {
      "text/plain": [
       "3628800"
      ]
     },
     "execution_count": 2,
     "metadata": {},
     "output_type": "execute_result"
    }
   ],
   "source": [
    "# 2. recursive method\n",
    "\n",
    "def factorial(n):\n",
    "    if n == 1:\n",
    "        return 1\n",
    "    return n * factorial(n-1)\n",
    "\n",
    "factorial(10)"
   ]
  },
  {
   "cell_type": "markdown",
   "metadata": {},
   "source": [
    "### 재귀 연습 2 - list 의 flatten 화\n",
    "\n",
    "list 내에 nested list 를 포함하고 있는 경우 단일한 list 로 flatten 시키는 함수를 작성\n",
    "\n",
    "[[1, 2, [3, 4]], [5, 6], 7]  ==> [1, 2, 3, 4, 5, 6, 7]\n",
    "\n",
    "(recursive 순서)\n",
    "\n",
    "    1) flatten_list([[1, 2, [3, 4]], [5, 6], 7], flatten_result=None)\n",
    "\n",
    "    2) flatten_list([[1, 2, [3, 4]], [])\n",
    "        flatten_result : [1, 2]\n",
    "\n",
    "    3) flatten_list([3, 4], [1, 2])\n",
    "        flatten_result : [1, 2, 3, 4]\n",
    "        \n",
    "    4) flatten_list([5, 6], [1, 2, 3, 4])\n",
    "        flatten_result : [1, 2, 3, 4, 5, 6]\n",
    "   \n",
    "    5) flatten_list(7, [1, 2, 3, 4, 5, 6])\n",
    "        flatten_result : [1, 2, 3, 4, 5, 6, 7]\n"
   ]
  },
  {
   "cell_type": "code",
   "execution_count": 7,
   "metadata": {},
   "outputs": [],
   "source": [
    "def flatten_list(alist, flatten_result=None):\n",
    "    \n",
    "    if flatten_result is None:       # 처음 시작인 경우 empty list 생성\n",
    "        flatten_result = []\n",
    "        \n",
    "    for a in alist:\n",
    "        if isinstance(a, list): # alist 의 element 가 또다른 list 이면 flatten 함수 재귀 호출              \n",
    "            flatten_list(a, flatten_result)\n",
    "        else:                             # 종료 조건\n",
    "            flatten_result.append(a)\n",
    "            print(flatten_result)\n",
    "            \n",
    "    return flatten_result"
   ]
  },
  {
   "cell_type": "code",
   "execution_count": 8,
   "metadata": {},
   "outputs": [
    {
     "name": "stdout",
     "output_type": "stream",
     "text": [
      "[1]\n",
      "[1, 2]\n",
      "[1, 2, 3]\n",
      "[1, 2, 3, 4]\n",
      "[1, 2, 3, 4, 5]\n",
      "[1, 2, 3, 4, 5, 6]\n",
      "[1, 2, 3, 4, 5, 6, 7]\n"
     ]
    },
    {
     "data": {
      "text/plain": [
       "[1, 2, 3, 4, 5, 6, 7]"
      ]
     },
     "execution_count": 8,
     "metadata": {},
     "output_type": "execute_result"
    }
   ],
   "source": [
    "flatten_list([[1, 2, [3, 4]], [5, 6], 7])"
   ]
  },
  {
   "cell_type": "markdown",
   "metadata": {},
   "source": [
    "### 재귀 연습 3 - dictionary 의 flatten 화\n",
    "\n",
    "nested dictionary 를 포함한 dictionary 를 단일 dictionary 로 flatten. 이 때 nested dictionary 의 key 는 . 로 표시\n",
    "\n",
    "{'a': 1, 'b':  {'x': 2, 'y': 3}, 'c': 4}  ==> {'a': 1, 'b.x': 2, 'b.y': 3, 'c': 4}\n",
    "\n",
    "(recursive 순서)\n",
    "\n",
    "    1) flatten_dict({'a': 1, 'b':  {'x': 2, 'y': 3}, 'c': 4}, parent_key=None, flatten_result=None)\n",
    "        adict.items : [('a', 1), ('b', {'x': 2, 'y': 3}), ('c', 4)]\n",
    "        flatten_result : {'a': 1}\n",
    "    \n",
    "    2) flatten_dict(({'x': 2, 'y': 3}, 'b', {'a': 1})\n",
    "        adict.items : [('x', 2), ('y', 3)]\n",
    "        flatten_result : {'a': 1, 'b.x': 2, 'b.y': 3}\n",
    "        \n",
    "    3) flatten_result : {'a': 1, 'b.x': 2, 'b.y': 3, 'c': 4}\n"
   ]
  },
  {
   "cell_type": "code",
   "execution_count": 1,
   "metadata": {},
   "outputs": [],
   "source": [
    "def flatten_dict(adict, parent_key=None, flatten_result=None):\n",
    "    \n",
    "    if flatten_result is None:      # 처음 시작인 경우 empty dictionary 생성\n",
    "        flatten_result = {}\n",
    "        \n",
    "    #print(\"adict=\", adict)\n",
    "        \n",
    "    for k, v in adict.items():\n",
    "        # adict 의 element 가 또 다른 dictionary 이면 재귀 호출\n",
    "        if isinstance(v, dict):        \n",
    "            flatten_dict(v, k, flatten_result)  # k - parent 의 key\n",
    "        else:\n",
    "            # parent_key 가 주어진 경우 key 값을 concatenate\n",
    "            if parent_key:\n",
    "                flatten_result[parent_key + '.' + k] = v  \n",
    "            else:               # parent_key 가 None 이면 key 값을 그대로 사용\n",
    "                flatten_result[k]= v\n",
    "                #print(flatten_result)\n",
    "            \n",
    "    return flatten_result"
   ]
  },
  {
   "cell_type": "code",
   "execution_count": 16,
   "metadata": {
    "scrolled": true
   },
   "outputs": [
    {
     "data": {
      "text/plain": [
       "{'a': 1, 'b.x': 2, 'b.y': 3, 'c': 4}"
      ]
     },
     "execution_count": 16,
     "metadata": {},
     "output_type": "execute_result"
    }
   ],
   "source": [
    "flatten_dict({'a': 1, 'b':  {'x': 2, 'y': 3}, 'c': 4})"
   ]
  },
  {
   "cell_type": "markdown",
   "metadata": {},
   "source": [
    "## 연습문제 - 문자열을 뒤에서 부터 출력\n",
    "\n",
    "1. recursive 방법 사용\n",
    "\n",
    "2. for loop 과 python 의 string 연산 사용\n",
    "\n",
    "3. pythonic way (한줄 coding) 사용"
   ]
  },
  {
   "cell_type": "code",
   "execution_count": null,
   "metadata": {},
   "outputs": [],
   "source": [
    "string = '.다니습있 수 할 을밍래그로프 nohtyP 는나'\n",
    "\n",
    "# 1. 재귀적 방법\n",
    "def recursive(s):\n",
    "    if not s:\n",
    "        return ''\n",
    "    else:\n",
    "        return s[?] + recursive(s[?])      # ? 부분 수정\n",
    "    \n",
    "recursive(string)"
   ]
  },
  {
   "cell_type": "code",
   "execution_count": null,
   "metadata": {},
   "outputs": [],
   "source": [
    "# 2. for loop 과 string 연산 사용\n",
    "\n",
    "sum = ''\n",
    "for s in string:\n",
    "    # CODE HRE\n",
    "    \n",
    "print(sum)"
   ]
  },
  {
   "cell_type": "code",
   "execution_count": null,
   "metadata": {},
   "outputs": [],
   "source": [
    "# Pythonic way\n",
    "string[?]          # ? 부분 수정"
   ]
  },
  {
   "cell_type": "markdown",
   "metadata": {},
   "source": [
    "## 19-2. lambda\n",
    "\n",
    "- Python 의 함수 생성 방법은 def 와 lambda 두 가지가 있다.\n",
    "- lambda 는 익명 (anonymous) 함수 이다.\n",
    "- 한번 사용할 간단한 함수인 경우 사용"
   ]
  },
  {
   "cell_type": "code",
   "execution_count": 19,
   "metadata": {},
   "outputs": [],
   "source": [
    "def sum(x, y):\n",
    "    return x + y"
   ]
  },
  {
   "cell_type": "code",
   "execution_count": 20,
   "metadata": {},
   "outputs": [
    {
     "data": {
      "text/plain": [
       "3"
      ]
     },
     "execution_count": 20,
     "metadata": {},
     "output_type": "execute_result"
    }
   ],
   "source": [
    "sum(1, 2)"
   ]
  },
  {
   "cell_type": "code",
   "execution_count": 21,
   "metadata": {},
   "outputs": [
    {
     "data": {
      "text/plain": [
       "3"
      ]
     },
     "execution_count": 21,
     "metadata": {},
     "output_type": "execute_result"
    }
   ],
   "source": [
    "(lambda x, y: x+y)(1,2)"
   ]
  },
  {
   "cell_type": "markdown",
   "metadata": {},
   "source": [
    "### lambda 를 변수에 assign"
   ]
  },
  {
   "cell_type": "code",
   "execution_count": 22,
   "metadata": {},
   "outputs": [
    {
     "name": "stdout",
     "output_type": "stream",
     "text": [
      "64\n"
     ]
    }
   ],
   "source": [
    "g = lambda x: x**2\n",
    "\n",
    "print(g(8))"
   ]
  },
  {
   "cell_type": "code",
   "execution_count": 23,
   "metadata": {},
   "outputs": [
    {
     "name": "stdout",
     "output_type": "stream",
     "text": [
      "9\n"
     ]
    }
   ],
   "source": [
    "f = lambda x, y: x + y\n",
    "\n",
    "print(f(4, 5))"
   ]
  },
  {
   "cell_type": "markdown",
   "metadata": {},
   "source": [
    "### dictionary 를 value 순으로 정렬"
   ]
  },
  {
   "cell_type": "markdown",
   "metadata": {},
   "source": [
    "- without lambda"
   ]
  },
  {
   "cell_type": "code",
   "execution_count": 1,
   "metadata": {},
   "outputs": [
    {
     "data": {
      "text/plain": [
       "[(1, 'c'), (2, 'a'), (3, 'b')]"
      ]
     },
     "execution_count": 1,
     "metadata": {},
     "output_type": "execute_result"
    }
   ],
   "source": [
    "dict = {'c': 1, 'a': 2, 'b': 3}\n",
    "\n",
    "tmp = list()\n",
    "\n",
    "for k, v in dict.items():\n",
    "    tmp.append((v, k))\n",
    "    \n",
    "sorted(tmp)"
   ]
  },
  {
   "cell_type": "markdown",
   "metadata": {},
   "source": [
    "- with lambda"
   ]
  },
  {
   "cell_type": "code",
   "execution_count": 2,
   "metadata": {},
   "outputs": [
    {
     "data": {
      "text/plain": [
       "[('c', 1), ('a', 2), ('b', 3)]"
      ]
     },
     "execution_count": 2,
     "metadata": {},
     "output_type": "execute_result"
    }
   ],
   "source": [
    "sorted(dict.items(), key=lambda kv: kv[1])"
   ]
  },
  {
   "cell_type": "markdown",
   "metadata": {},
   "source": [
    "## 19-3. map, reduce, filter 함수\n",
    "\n",
    "- map : 각각의 sequence 요소(element)에 대해 순서대로 한번씩 처리하여 새로운 list 를 반환\n",
    "\n",
    "\n",
    "- filter : sequence 의 element 중 test 를 통과한 element 로 구성된 새로운 list 반환\n",
    "\n",
    "\n",
    "- reduce : sequence 의 element 들을 왼쪽부터 두개씩 순차적으로 처리하며 누적된 결과가 최종적으로 하나가 되도록 한다.  "
   ]
  },
  {
   "cell_type": "markdown",
   "metadata": {},
   "source": [
    "### map(함수명, list)"
   ]
  },
  {
   "cell_type": "code",
   "execution_count": 24,
   "metadata": {},
   "outputs": [
    {
     "data": {
      "text/plain": [
       "[1, 4, 9, 16, 25]"
      ]
     },
     "execution_count": 24,
     "metadata": {},
     "output_type": "execute_result"
    }
   ],
   "source": [
    "def square(x):\n",
    "    return x*x\n",
    "\n",
    "list(map(square, [1, 2, 3, 4, 5]))"
   ]
  },
  {
   "cell_type": "code",
   "execution_count": 25,
   "metadata": {},
   "outputs": [
    {
     "data": {
      "text/plain": [
       "[1, 4, 9, 16, 25]"
      ]
     },
     "execution_count": 25,
     "metadata": {},
     "output_type": "execute_result"
    }
   ],
   "source": [
    "list(map(lambda x: x*x, [1, 2, 3, 4, 5]))"
   ]
  },
  {
   "cell_type": "code",
   "execution_count": 2,
   "metadata": {},
   "outputs": [
    {
     "data": {
      "text/plain": [
       "[18, 14, 14, 14]"
      ]
     },
     "execution_count": 2,
     "metadata": {},
     "output_type": "execute_result"
    }
   ],
   "source": [
    "a = [1, 2, 3, 4]\n",
    "b = [17, 12, 11, 10]\n",
    "\n",
    "list(map(lambda x, y: x+y, a, b))  # x <-- a, y <-- b"
   ]
  },
  {
   "cell_type": "markdown",
   "metadata": {},
   "source": [
    "### filter(함수명, list)\n",
    "\n",
    "filter 를 이용하면 if 문을 함수 안으로 숨길 수 있다."
   ]
  },
  {
   "cell_type": "code",
   "execution_count": 27,
   "metadata": {},
   "outputs": [
    {
     "data": {
      "text/plain": [
       "[6, 7, 8, 9]"
      ]
     },
     "execution_count": 27,
     "metadata": {},
     "output_type": "execute_result"
    }
   ],
   "source": [
    "def test(x):\n",
    "    if x > 5:\n",
    "        return x\n",
    "    else:\n",
    "        return None\n",
    "    \n",
    "list(filter(test, [1, 2, 3, 4, 5, 6, 7, 8, 9]))"
   ]
  },
  {
   "cell_type": "code",
   "execution_count": 28,
   "metadata": {},
   "outputs": [
    {
     "data": {
      "text/plain": [
       "[6, 7, 8, 9]"
      ]
     },
     "execution_count": 28,
     "metadata": {},
     "output_type": "execute_result"
    }
   ],
   "source": [
    "list(filter(lambda x: x > 5 , [1, 2, 3, 4, 5, 6, 7, 8, 9]))"
   ]
  },
  {
   "cell_type": "code",
   "execution_count": 29,
   "metadata": {},
   "outputs": [
    {
     "data": {
      "text/plain": [
       "['김갑돌', '김성환']"
      ]
     },
     "execution_count": 29,
     "metadata": {},
     "output_type": "execute_result"
    }
   ],
   "source": [
    "list(filter(lambda x: x.startswith('김'), ['김갑돌', '김성환', '오영제', '한영기']))"
   ]
  },
  {
   "cell_type": "code",
   "execution_count": 30,
   "metadata": {},
   "outputs": [
    {
     "data": {
      "text/plain": [
       "[18, 9, 24, 27]"
      ]
     },
     "execution_count": 30,
     "metadata": {},
     "output_type": "execute_result"
    }
   ],
   "source": [
    "foo = [1, 18, 9, 22, 17, 24, 8, 27]\n",
    "\n",
    "list(filter(lambda x: x%3 == 0, foo))"
   ]
  },
  {
   "cell_type": "markdown",
   "metadata": {},
   "source": [
    "### reduce"
   ]
  },
  {
   "cell_type": "code",
   "execution_count": 31,
   "metadata": {},
   "outputs": [
    {
     "data": {
      "text/plain": [
       "15"
      ]
     },
     "execution_count": 31,
     "metadata": {},
     "output_type": "execute_result"
    }
   ],
   "source": [
    "from  functools import reduce\n",
    "\n",
    "def sum(x, y):\n",
    "    return x+y\n",
    "\n",
    "reduce(sum, [1, 2, 3, 4, 5])          # ((((1+2)+3)+4)+5)"
   ]
  },
  {
   "cell_type": "code",
   "execution_count": 32,
   "metadata": {},
   "outputs": [
    {
     "data": {
      "text/plain": [
       "15"
      ]
     },
     "execution_count": 32,
     "metadata": {},
     "output_type": "execute_result"
    }
   ],
   "source": [
    "reduce(lambda x, y: x+y, [1, 2, 3, 4, 5])     # ((((1+2)+3)+4)+5)"
   ]
  },
  {
   "cell_type": "code",
   "execution_count": 33,
   "metadata": {},
   "outputs": [
    {
     "data": {
      "text/plain": [
       "'abcde'"
      ]
     },
     "execution_count": 33,
     "metadata": {},
     "output_type": "execute_result"
    }
   ],
   "source": [
    "reduce(lambda x, y: x+y, ['a', 'b', 'c', 'd', 'e'])"
   ]
  },
  {
   "cell_type": "markdown",
   "metadata": {},
   "source": [
    "##  19-4. OOP 와의 비교"
   ]
  },
  {
   "cell_type": "code",
   "execution_count": 34,
   "metadata": {},
   "outputs": [],
   "source": [
    "class Sequence:\n",
    "    def __init__(self, lst):\n",
    "        self.lst = lst\n",
    "        \n",
    "    def filter(self, thresh):\n",
    "        rlst = []\n",
    "        for el in self.lst:\n",
    "            if el > thresh:\n",
    "                rlst.append(el)\n",
    "        return list(rlst)"
   ]
  },
  {
   "cell_type": "code",
   "execution_count": 35,
   "metadata": {},
   "outputs": [
    {
     "data": {
      "text/plain": [
       "[6, 7, 8, 9]"
      ]
     },
     "execution_count": 35,
     "metadata": {},
     "output_type": "execute_result"
    }
   ],
   "source": [
    "seq = Sequence([1, 2, 3, 4, 5, 6, 7, 8, 9])\n",
    "seq.filter(5)"
   ]
  },
  {
   "cell_type": "markdown",
   "metadata": {},
   "source": [
    "## 19-5. Closure (크로져)\n",
    "\n",
    "- 퍼스트클래스(1급 객체) 함수를 지원하는 언어의 네임 바인딩 기술  \n",
    "\n",
    "\n",
    "- 어떤 함수를 함수 자신이 가지고 있는 환경과 함께 저장한 레코드\n",
    "\n",
    "\n",
    "- 자신의 영역 밖에서 호출된 함수의 변수값 (외부변수, free variable) 과 레퍼런스를 복사하고 저장한 뒤, 이 캡처한 값들에 액세스 할 수 있게 함\n",
    "\n",
    "\n",
    "- 1급 객체 (Frist-class citizen) 의 조건\n",
    "\n",
    "    - 변수나 데이타에 함수를 할당 할 수 있어야 한다.\n",
    "    - 함수의 인자로 넘길 수 있어야 한다.\n",
    "    - 함수의 리턴값으로 리턴 할수 있어야 한다.\n",
    "    \n",
    "    \n",
    "* 즉, Python 은 함수 자체를 인자 (argument) 로써 다른 함수에 전달하거나 다른 함수의 결과값으로 리턴 할수도 있고, 함수를 변수에 할당하거나 데이터 구조안에 저장할 수 있으므로 Python 의 함수는 일급객체이다.\n",
    "\n",
    "\n",
    "* Java 나 C 는 함수(method)의 인자로 함수를 넘길 수 없으므로 Java 나 C 의 함수는 First-class citizen 이 아니다. (이급객체)"
   ]
  },
  {
   "cell_type": "markdown",
   "metadata": {},
   "source": [
    "### 하나의 함수를 선언하고, 다른 이름의 변수로 closure 를 저장하면 여러개의 함수를 선언한 효과를 얻음\n",
    "\n",
    "- ex) multiple 함수를 double, triple, five_times 변수로 저장"
   ]
  },
  {
   "cell_type": "code",
   "execution_count": 3,
   "metadata": {},
   "outputs": [],
   "source": [
    "def multiple(a):            # 외부함수\n",
    "    # 내부함수 mult 가 외부 변수(free variable) a 를 저장하고, number 를 인수로 받음\n",
    "    def mult(number):      \n",
    "        return a * number          \n",
    "    \n",
    "    return mult             # 내부함수 return"
   ]
  },
  {
   "cell_type": "code",
   "execution_count": 37,
   "metadata": {},
   "outputs": [],
   "source": [
    "double = multiple(2)"
   ]
  },
  {
   "cell_type": "code",
   "execution_count": 38,
   "metadata": {},
   "outputs": [
    {
     "data": {
      "text/plain": [
       "8"
      ]
     },
     "execution_count": 38,
     "metadata": {},
     "output_type": "execute_result"
    }
   ],
   "source": [
    "double(4)            "
   ]
  },
  {
   "cell_type": "code",
   "execution_count": 39,
   "metadata": {},
   "outputs": [
    {
     "data": {
      "text/plain": [
       "12"
      ]
     },
     "execution_count": 39,
     "metadata": {},
     "output_type": "execute_result"
    }
   ],
   "source": [
    "triple = multiple(3)\n",
    "\n",
    "triple(4)"
   ]
  },
  {
   "cell_type": "code",
   "execution_count": 40,
   "metadata": {},
   "outputs": [
    {
     "data": {
      "text/plain": [
       "15"
      ]
     },
     "execution_count": 40,
     "metadata": {},
     "output_type": "execute_result"
    }
   ],
   "source": [
    "five_times = multiple(5)\n",
    "\n",
    "five_times(3)"
   ]
  },
  {
   "cell_type": "markdown",
   "metadata": {},
   "source": [
    "### lambda 를 closure 로 사용"
   ]
  },
  {
   "cell_type": "code",
   "execution_count": 41,
   "metadata": {},
   "outputs": [
    {
     "name": "stdout",
     "output_type": "stream",
     "text": [
      "5\n",
      "7\n",
      "8\n"
     ]
    }
   ],
   "source": [
    "def inc(n):\n",
    "    return lambda x: x+n\n",
    "\n",
    "add2 = inc(2)\n",
    "print(add2(3))\n",
    "\n",
    "add4 = inc(4)\n",
    "print(add4(3))\n",
    "\n",
    "print(add2(1) + add4(1))"
   ]
  },
  {
   "cell_type": "markdown",
   "metadata": {},
   "source": [
    "**(optional) - Python 이 외부 변수를 저장한 장소**"
   ]
  },
  {
   "cell_type": "code",
   "execution_count": 42,
   "metadata": {},
   "outputs": [
    {
     "data": {
      "text/plain": [
       "['__annotations__',\n",
       " '__call__',\n",
       " '__class__',\n",
       " '__closure__',\n",
       " '__code__',\n",
       " '__defaults__',\n",
       " '__delattr__',\n",
       " '__dict__',\n",
       " '__dir__',\n",
       " '__doc__',\n",
       " '__eq__',\n",
       " '__format__',\n",
       " '__ge__',\n",
       " '__get__',\n",
       " '__getattribute__',\n",
       " '__globals__',\n",
       " '__gt__',\n",
       " '__hash__',\n",
       " '__init__',\n",
       " '__init_subclass__',\n",
       " '__kwdefaults__',\n",
       " '__le__',\n",
       " '__lt__',\n",
       " '__module__',\n",
       " '__name__',\n",
       " '__ne__',\n",
       " '__new__',\n",
       " '__qualname__',\n",
       " '__reduce__',\n",
       " '__reduce_ex__',\n",
       " '__repr__',\n",
       " '__setattr__',\n",
       " '__sizeof__',\n",
       " '__str__',\n",
       " '__subclasshook__']"
      ]
     },
     "execution_count": 42,
     "metadata": {},
     "output_type": "execute_result"
    }
   ],
   "source": [
    "dir(five_times)"
   ]
  },
  {
   "cell_type": "code",
   "execution_count": 46,
   "metadata": {},
   "outputs": [
    {
     "data": {
      "text/plain": [
       "'mult'"
      ]
     },
     "execution_count": 46,
     "metadata": {},
     "output_type": "execute_result"
    }
   ],
   "source": [
    "five_times.__name__"
   ]
  },
  {
   "cell_type": "code",
   "execution_count": 47,
   "metadata": {},
   "outputs": [
    {
     "data": {
      "text/plain": [
       "tuple"
      ]
     },
     "execution_count": 47,
     "metadata": {},
     "output_type": "execute_result"
    }
   ],
   "source": [
    "type(five_times.__closure__)"
   ]
  },
  {
   "cell_type": "code",
   "execution_count": 48,
   "metadata": {},
   "outputs": [
    {
     "data": {
      "text/plain": [
       "['__class__',\n",
       " '__delattr__',\n",
       " '__dir__',\n",
       " '__doc__',\n",
       " '__eq__',\n",
       " '__format__',\n",
       " '__ge__',\n",
       " '__getattribute__',\n",
       " '__gt__',\n",
       " '__hash__',\n",
       " '__init__',\n",
       " '__init_subclass__',\n",
       " '__le__',\n",
       " '__lt__',\n",
       " '__ne__',\n",
       " '__new__',\n",
       " '__reduce__',\n",
       " '__reduce_ex__',\n",
       " '__repr__',\n",
       " '__setattr__',\n",
       " '__sizeof__',\n",
       " '__str__',\n",
       " '__subclasshook__',\n",
       " 'cell_contents']"
      ]
     },
     "execution_count": 48,
     "metadata": {},
     "output_type": "execute_result"
    }
   ],
   "source": [
    "dir(five_times.__closure__[0])"
   ]
  },
  {
   "cell_type": "code",
   "execution_count": 49,
   "metadata": {},
   "outputs": [
    {
     "data": {
      "text/plain": [
       "5"
      ]
     },
     "execution_count": 49,
     "metadata": {},
     "output_type": "execute_result"
    }
   ],
   "source": [
    "five_times.__closure__[0].cell_contents"
   ]
  },
  {
   "cell_type": "markdown",
   "metadata": {},
   "source": [
    "## 19-6. decorator\n",
    "\n",
    "closure 는 외부 변수 (free variable) 을 내부 함수 (inner function)로 전달하여 기억하게 하는 것이고, decorator 는 함수를 내부 함수로 전달하여 기억하게 하는 것이다. 여기서 전달하는 함수를 original function 이라고 하고, 내부 함수를 wrapper function 이라고 한다.\n",
    "\n",
    "따라서, decorator 역시 함수를 parameter 로 전달 받고 반환할 수 있는 First-class 객체 language 에서만 구현 가능하다.\n",
    "\n",
    "- 목적 : 하나의 decorator 함수를 만들고 wrapper 함수에 변화를 줌으로서 parameter 로 받는 여러 함수들에 동작을 쉽게 추가"
   ]
  },
  {
   "cell_type": "code",
   "execution_count": 5,
   "metadata": {},
   "outputs": [],
   "source": [
    "def decorator_function(original_function):\n",
    "    def wrapper_function(*args):\n",
    "        print(\"{} 함수가 실행되었습니다.\".format(original_function.__name__))\n",
    "        for arg in args:\n",
    "            print(arg)\n",
    "        return original_function(*args)\n",
    "    return wrapper_function"
   ]
  },
  {
   "cell_type": "code",
   "execution_count": 6,
   "metadata": {},
   "outputs": [],
   "source": [
    "@decorator_function\n",
    "def display(msg1):\n",
    "    print(\"response complete\")"
   ]
  },
  {
   "cell_type": "code",
   "execution_count": 7,
   "metadata": {},
   "outputs": [
    {
     "name": "stdout",
     "output_type": "stream",
     "text": [
      "display 함수가 실행되었습니다.\n",
      "여러 함수에 공통인 기능을 유지 관리하기 편합니다.\n",
      "response complete\n"
     ]
    }
   ],
   "source": [
    "display(\"여러 함수에 공통인 기능을 유지 관리하기 편합니다.\")"
   ]
  },
  {
   "cell_type": "code",
   "execution_count": 8,
   "metadata": {},
   "outputs": [],
   "source": [
    "@decorator_function\n",
    "def display_info(name, age):\n",
    "    print(\"함수의 parameter 로 함수를 전달할 수 있습니다.\")"
   ]
  },
  {
   "cell_type": "code",
   "execution_count": 9,
   "metadata": {},
   "outputs": [
    {
     "name": "stdout",
     "output_type": "stream",
     "text": [
      "display_info 함수가 실행되었습니다.\n",
      "John\n",
      "50\n",
      "함수의 parameter 로 함수를 전달할 수 있습니다.\n"
     ]
    }
   ],
   "source": [
    "display_info('John',50)"
   ]
  },
  {
   "cell_type": "markdown",
   "metadata": {},
   "source": [
    "## Generator\n",
    "\n",
    "- yield 문을 사용하여 값 return\n",
    "\n",
    "    \n",
    "- memory 를 효율적으로 사용할 수 있으므로 large data 처리에 유용"
   ]
  },
  {
   "cell_type": "code",
   "execution_count": 43,
   "metadata": {},
   "outputs": [],
   "source": [
    "# 일반적 함수 -> 한번에 결과 return\n",
    "\n",
    "def fibs(n):\n",
    "    result = []\n",
    "    a = 1\n",
    "    b = 1\n",
    "    for i in range(n):\n",
    "        result.append(a)\n",
    "        a, b = b, a + b\n",
    "    return result"
   ]
  },
  {
   "cell_type": "code",
   "execution_count": 44,
   "metadata": {},
   "outputs": [
    {
     "name": "stdout",
     "output_type": "stream",
     "text": [
      "[1, 1, 2, 3, 5, 8, 13, 21, 34, 55, 89, 144, 233, 377, 610, 987, 1597, 2584, 4181, 6765, 10946, 17711, 28657, 46368, 75025, 121393, 196418, 317811, 514229, 832040]\n"
     ]
    }
   ],
   "source": [
    "print(fibs(30))"
   ]
  },
  {
   "cell_type": "code",
   "execution_count": 45,
   "metadata": {},
   "outputs": [],
   "source": [
    "# generator 함수 ->\n",
    "\n",
    "def fibs2(n):\n",
    "    a = 1\n",
    "    b = 1\n",
    "    for i in range(n):\n",
    "        yield a                  # yield 문 안의 표현식을 반환하고, 실행 일시 중단\n",
    "        a, b = b, a + b"
   ]
  },
  {
   "cell_type": "code",
   "execution_count": 46,
   "metadata": {},
   "outputs": [
    {
     "data": {
      "text/plain": [
       "<generator object fibs2 at 0x0000029B15AC1048>"
      ]
     },
     "execution_count": 46,
     "metadata": {},
     "output_type": "execute_result"
    }
   ],
   "source": [
    "fib = fibs2(30)              # generator object 반환\n",
    "fib"
   ]
  },
  {
   "cell_type": "code",
   "execution_count": 47,
   "metadata": {},
   "outputs": [
    {
     "data": {
      "text/plain": [
       "1"
      ]
     },
     "execution_count": 47,
     "metadata": {},
     "output_type": "execute_result"
    }
   ],
   "source": [
    "next(fib)"
   ]
  },
  {
   "cell_type": "code",
   "execution_count": 48,
   "metadata": {},
   "outputs": [
    {
     "name": "stdout",
     "output_type": "stream",
     "text": [
      "1\n",
      "2\n",
      "3\n"
     ]
    }
   ],
   "source": [
    "for _ in range(3):\n",
    "    print(next(fib))"
   ]
  },
  {
   "cell_type": "code",
   "execution_count": 49,
   "metadata": {},
   "outputs": [
    {
     "name": "stdout",
     "output_type": "stream",
     "text": [
      "[5, 8, 13, 21, 34, 55, 89, 144, 233, 377, 610, 987, 1597, 2584, 4181, 6765, 10946, 17711, 28657, 46368, 75025, 121393, 196418, 317811, 514229, 832040]\n"
     ]
    }
   ],
   "source": [
    "print(list(fib))"
   ]
  },
  {
   "cell_type": "markdown",
   "metadata": {},
   "source": [
    "## First Class Citizen (일급시민)\n",
    "\n",
    "- 변수에 담을 수 있다\n",
    "- 인자 (parameter) 로 전달할 수 잇다  \n",
    "- retrun 값으로 반환할 수 있다"
   ]
  },
  {
   "cell_type": "markdown",
   "metadata": {},
   "source": [
    "**변수에 할당**"
   ]
  },
  {
   "cell_type": "code",
   "execution_count": 50,
   "metadata": {},
   "outputs": [
    {
     "name": "stdout",
     "output_type": "stream",
     "text": [
      "123\n"
     ]
    }
   ],
   "source": [
    "def first_class(a):\n",
    "    print(a)\n",
    "    \n",
    "val = first_class\n",
    "val(123)"
   ]
  },
  {
   "cell_type": "markdown",
   "metadata": {},
   "source": [
    "**리스트의 element**"
   ]
  },
  {
   "cell_type": "code",
   "execution_count": 51,
   "metadata": {},
   "outputs": [
    {
     "name": "stdout",
     "output_type": "stream",
     "text": [
      "2\n"
     ]
    }
   ],
   "source": [
    "def plus(a, b):\n",
    "    return a+b\n",
    "\n",
    "def minus(a, b):\n",
    "    return a - b\n",
    "\n",
    "list = [plus, minus]\n",
    "\n",
    "a = list[0](1, 2)\n",
    "b = list[1](1, 2)\n",
    "\n",
    "print(a + b)"
   ]
  },
  {
   "cell_type": "markdown",
   "metadata": {},
   "source": [
    "**다른 함수의 parameter**"
   ]
  },
  {
   "cell_type": "code",
   "execution_count": 52,
   "metadata": {},
   "outputs": [
    {
     "name": "stdout",
     "output_type": "stream",
     "text": [
      "I love you Good bye\n"
     ]
    }
   ],
   "source": [
    "def love():\n",
    "    return \"I love\"\n",
    "    \n",
    "def bye():\n",
    "    return \"Good bye\"\n",
    "\n",
    "def send(s, func1, func2):\n",
    "    print(func1(), s, func2())\n",
    "    \n",
    "send('you', love, bye)"
   ]
  },
  {
   "cell_type": "markdown",
   "metadata": {},
   "source": [
    "## 연습문제\n",
    "\n",
    "- lambda 를 이용하여 test_list 의 각 문장이 몇개의 단어로 이루어져 있는지 한줄 coding\n",
    "\n",
    "test_list = ['this is a book', 'good morning', 'apple', 'apple orange pear', 'hello python and functional programmiong']"
   ]
  },
  {
   "cell_type": "code",
   "execution_count": 63,
   "metadata": {},
   "outputs": [
    {
     "name": "stdout",
     "output_type": "stream",
     "text": [
      "4\n",
      "2\n",
      "1\n",
      "3\n",
      "5\n"
     ]
    }
   ],
   "source": [
    "test_list = ['this is a book', 'good morning', 'apple', 'apple orange pear', 'hello python and functional programmiong']\n",
    "\n",
    "for s in test_list:\n",
    "    print((lambda x: ?)(s.split(' ')))"
   ]
  }
 ],
 "metadata": {
  "kernelspec": {
   "display_name": "Python 3",
   "language": "python",
   "name": "python3"
  },
  "language_info": {
   "codemirror_mode": {
    "name": "ipython",
    "version": 3
   },
   "file_extension": ".py",
   "mimetype": "text/x-python",
   "name": "python",
   "nbconvert_exporter": "python",
   "pygments_lexer": "ipython3",
   "version": "3.7.3"
  }
 },
 "nbformat": 4,
 "nbformat_minor": 2
}
