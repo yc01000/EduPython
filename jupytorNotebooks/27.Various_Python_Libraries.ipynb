{
 "cells": [
  {
   "cell_type": "markdown",
   "metadata": {},
   "source": [
    "# 27. 자주 사용하는 Python Library 소개"
   ]
  },
  {
   "cell_type": "markdown",
   "metadata": {},
   "source": [
    "## os\n",
    "\n",
    "- 환경 변수나 디렉터리, 파일 등의 OS 자원을 제어할 수 있게 해주는 모듈이다"
   ]
  },
  {
   "cell_type": "code",
   "execution_count": 43,
   "metadata": {},
   "outputs": [
    {
     "data": {
      "text/plain": [
       "'C:\\\\Users\\\\trimu\\\\Miniconda3\\\\envs\\\\tf20;C:\\\\Users\\\\trimu\\\\Miniconda3\\\\envs\\\\tf20\\\\Library\\\\mingw-w64\\\\bin;C:\\\\Users\\\\trimu\\\\Miniconda3\\\\envs\\\\tf20\\\\Library\\\\usr\\\\bin;C:\\\\Users\\\\trimu\\\\Miniconda3\\\\envs\\\\tf20\\\\Library\\\\bin;C:\\\\Users\\\\trimu\\\\Miniconda3\\\\envs\\\\tf20\\\\Scripts;C:\\\\Users\\\\trimu\\\\Miniconda3\\\\envs\\\\tf20\\\\bin;C:\\\\Users\\\\trimu\\\\Miniconda3\\\\condabin;C:\\\\Program Files\\\\NVIDIA GPU Computing Toolkit\\\\CUDA\\\\v10.1\\\\bin;C:\\\\Program Files\\\\NVIDIA GPU Computing Toolkit\\\\CUDA\\\\v10.1\\\\libnvvp;C:\\\\Program Files (x86)\\\\Common Files\\\\Oracle\\\\Java\\\\javapath;C:\\\\Program Files\\\\NVIDIA GPU Computing Toolkit\\\\CUDA\\\\v10.0\\\\bin;C:\\\\Program Files\\\\NVIDIA GPU Computing Toolkit\\\\CUDA\\\\v10.0\\\\libnvvp;C:\\\\Program Files\\\\NVIDIA GPU Computing Toolkit\\\\CUDA\\\\v9.0\\\\bin;C:\\\\Program Files\\\\NVIDIA GPU Computing Toolkit\\\\CUDA\\\\v9.0\\\\libnvvp;C:\\\\ProgramData\\\\Boxstarter;C:\\\\Program Files (x86)\\\\Intel\\\\Intel(R) Management Engine Components\\\\iCLS;C:\\\\Program Files\\\\Intel\\\\Intel(R) Management Engine Components\\\\iCLS;C:\\\\Users\\\\trimu\\\\Anaconda3\\\\Lib\\\\site-packages\\\\PyQt5;C:\\\\Python36\\\\Scripts;C:\\\\Python36;C:\\\\Windows\\\\system32;C:\\\\Windows;C:\\\\Windows\\\\System32\\\\Wbem;C:\\\\Windows\\\\System32\\\\WindowsPowerShell\\\\v1.0;C:\\\\Program Files\\\\Git\\\\cmd;C:\\\\Program Files (x86)\\\\NVIDIA Corporation\\\\PhysX\\\\Common;C:\\\\WINDOWS\\\\system32;C:\\\\WINDOWS;C:\\\\WINDOWS\\\\System32\\\\Wbem;C:\\\\WINDOWS\\\\System32\\\\WindowsPowerShell\\\\v1.0;C:\\\\Program Files\\\\MySQL\\\\MySQL Utilities 1.6;C:\\\\WINDOWS\\\\System32\\\\OpenSSH;C:\\\\Program Files (x86)\\\\Intel\\\\Intel(R) Management Engine Components\\\\DAL;C:\\\\Program Files\\\\Intel\\\\Intel(R) Management Engine Components\\\\DAL;C:\\\\Program Files (x86)\\\\Intel\\\\Intel(R) Management Engine Components\\\\IPT;C:\\\\Program Files\\\\Intel\\\\Intel(R) Management Engine Components\\\\IPT;C:\\\\Program Files\\\\dotnet;C:\\\\ProgramData\\\\chocolatey\\\\bin;C:\\\\Program Files\\\\nodejs;C:\\\\Program Files (x86)\\\\Yarn\\\\bin;C:\\\\WINDOWS\\\\system32;C:\\\\WINDOWS;C:\\\\WINDOWS\\\\System32\\\\Wbem;C:\\\\WINDOWS\\\\System32\\\\WindowsPowerShell\\\\v1.0;C:\\\\WINDOWS\\\\System32\\\\OpenSSH;C:\\\\Program Files\\\\Pandoc;C:\\\\Program Files (x86)\\\\Graphviz2.38\\\\bin;C:\\\\Users\\\\trimu\\\\AppData\\\\Local\\\\atom\\\\bin;C:\\\\Program Files\\\\Intel\\\\WiFi\\\\bin;C:\\\\Program Files\\\\Common Files\\\\Intel\\\\WirelessCommon;C:\\\\Program Files\\\\NVIDIA Corporation\\\\Nsight Compute 2019.4.0;C:\\\\Program Files\\\\mingw-w64\\\\x86_64-8.1.0-posix-seh-rt_v6-rev0\\\\mingw64\\\\bin;C:\\\\Users\\\\trimu\\\\AppData\\\\Local\\\\atom\\\\bin;C:\\\\Users\\\\trimu\\\\AppData\\\\Local\\\\Programs\\\\Microsoft VS Code\\\\bin;C:\\\\Users\\\\trimu\\\\AppData\\\\Roaming\\\\npm;.'"
      ]
     },
     "execution_count": 43,
     "metadata": {},
     "output_type": "execute_result"
    }
   ],
   "source": [
    "import os\n",
    "\n",
    "os.environ['PATH']"
   ]
  },
  {
   "cell_type": "code",
   "execution_count": 15,
   "metadata": {},
   "outputs": [
    {
     "data": {
      "text/plain": [
       "'C:\\\\Users\\\\trimu\\\\Desktop\\\\Algorithm 으로 배우는 Python\\\\jupytorNotebooks'"
      ]
     },
     "execution_count": 15,
     "metadata": {},
     "output_type": "execute_result"
    }
   ],
   "source": [
    "os.getcwd()"
   ]
  },
  {
   "cell_type": "code",
   "execution_count": 17,
   "metadata": {},
   "outputs": [],
   "source": [
    "os.chdir(\"C:\\\\Users\\\\trimu\\\\Desktop\")"
   ]
  },
  {
   "cell_type": "code",
   "execution_count": 18,
   "metadata": {},
   "outputs": [
    {
     "data": {
      "text/plain": [
       "'C:\\\\Users\\\\trimu\\\\Desktop'"
      ]
     },
     "execution_count": 18,
     "metadata": {},
     "output_type": "execute_result"
    }
   ],
   "source": [
    "os.getcwd()"
   ]
  },
  {
   "cell_type": "markdown",
   "metadata": {},
   "source": [
    "## sys.path\n",
    "\n",
    "- 파이썬 모듈들이 저장되어 있는 위치를 나타낸다. 즉 이 위치에 있는 파이썬 모듈은 경로에 상관없이 어디에서나 불러올 수 있다."
   ]
  },
  {
   "cell_type": "code",
   "execution_count": 38,
   "metadata": {},
   "outputs": [
    {
     "data": {
      "text/plain": [
       "['C:\\\\Users\\\\trimu\\\\Desktop\\\\Algorithm 으로 배우는 Python\\\\jupytorNotebooks',\n",
       " 'C:\\\\Users\\\\trimu\\\\Desktop\\\\GAN Udemy\\\\machine_learning_coding',\n",
       " 'C:\\\\Users\\\\trimu\\\\Miniconda3\\\\envs\\\\tf20\\\\python37.zip',\n",
       " 'C:\\\\Users\\\\trimu\\\\Miniconda3\\\\envs\\\\tf20\\\\DLLs',\n",
       " 'C:\\\\Users\\\\trimu\\\\Miniconda3\\\\envs\\\\tf20\\\\lib',\n",
       " 'C:\\\\Users\\\\trimu\\\\Miniconda3\\\\envs\\\\tf20',\n",
       " '',\n",
       " 'C:\\\\Users\\\\trimu\\\\AppData\\\\Roaming\\\\Python\\\\Python37\\\\site-packages',\n",
       " 'C:\\\\Users\\\\trimu\\\\Miniconda3\\\\envs\\\\tf20\\\\lib\\\\site-packages',\n",
       " 'C:\\\\Users\\\\trimu\\\\Miniconda3\\\\envs\\\\tf20\\\\lib\\\\site-packages\\\\win32',\n",
       " 'C:\\\\Users\\\\trimu\\\\Miniconda3\\\\envs\\\\tf20\\\\lib\\\\site-packages\\\\win32\\\\lib',\n",
       " 'C:\\\\Users\\\\trimu\\\\Miniconda3\\\\envs\\\\tf20\\\\lib\\\\site-packages\\\\Pythonwin',\n",
       " 'C:\\\\Users\\\\trimu\\\\Miniconda3\\\\envs\\\\tf20\\\\lib\\\\site-packages\\\\IPython\\\\extensions',\n",
       " 'C:\\\\Users\\\\trimu\\\\.ipython']"
      ]
     },
     "execution_count": 38,
     "metadata": {},
     "output_type": "execute_result"
    }
   ],
   "source": [
    "import sys\n",
    "\n",
    "sys.path"
   ]
  },
  {
   "cell_type": "code",
   "execution_count": 39,
   "metadata": {},
   "outputs": [],
   "source": [
    "sys.path.append(\"C:\\\\Users\\\\trimu\\\\\")"
   ]
  },
  {
   "cell_type": "code",
   "execution_count": 40,
   "metadata": {},
   "outputs": [
    {
     "data": {
      "text/plain": [
       "['C:\\\\Users\\\\trimu\\\\Desktop\\\\Algorithm 으로 배우는 Python\\\\jupytorNotebooks',\n",
       " 'C:\\\\Users\\\\trimu\\\\Desktop\\\\GAN Udemy\\\\machine_learning_coding',\n",
       " 'C:\\\\Users\\\\trimu\\\\Miniconda3\\\\envs\\\\tf20\\\\python37.zip',\n",
       " 'C:\\\\Users\\\\trimu\\\\Miniconda3\\\\envs\\\\tf20\\\\DLLs',\n",
       " 'C:\\\\Users\\\\trimu\\\\Miniconda3\\\\envs\\\\tf20\\\\lib',\n",
       " 'C:\\\\Users\\\\trimu\\\\Miniconda3\\\\envs\\\\tf20',\n",
       " '',\n",
       " 'C:\\\\Users\\\\trimu\\\\AppData\\\\Roaming\\\\Python\\\\Python37\\\\site-packages',\n",
       " 'C:\\\\Users\\\\trimu\\\\Miniconda3\\\\envs\\\\tf20\\\\lib\\\\site-packages',\n",
       " 'C:\\\\Users\\\\trimu\\\\Miniconda3\\\\envs\\\\tf20\\\\lib\\\\site-packages\\\\win32',\n",
       " 'C:\\\\Users\\\\trimu\\\\Miniconda3\\\\envs\\\\tf20\\\\lib\\\\site-packages\\\\win32\\\\lib',\n",
       " 'C:\\\\Users\\\\trimu\\\\Miniconda3\\\\envs\\\\tf20\\\\lib\\\\site-packages\\\\Pythonwin',\n",
       " 'C:\\\\Users\\\\trimu\\\\Miniconda3\\\\envs\\\\tf20\\\\lib\\\\site-packages\\\\IPython\\\\extensions',\n",
       " 'C:\\\\Users\\\\trimu\\\\.ipython',\n",
       " 'C:\\\\Users\\\\trimu\\\\']"
      ]
     },
     "execution_count": 40,
     "metadata": {},
     "output_type": "execute_result"
    }
   ],
   "source": [
    "sys.path"
   ]
  },
  {
   "cell_type": "markdown",
   "metadata": {},
   "source": [
    "## time\n",
    "\n",
    "- time.time()  \n",
    "    - UTC(Universal Time Coordinated 협정 세계 표준시)를 사용하여 현재 시간을 실수 형태로 돌려주는 함수  \n",
    "    - 1970년 1월 1일 0시 0분 0초를 기준으로 지난 시간을 초 단위로 돌려준다\n",
    "    \n",
    "    \n",
    "- time.localtime  \n",
    "    - time.time()이 돌려준 실수 값을 사용해서 연도, 월, 일, 시, 분, 초, ... 의 형태로 바꾸어 주는 함수\n",
    "    \n",
    "    \n",
    "    \n",
    "- time.strftime('출력할 형식 포맷 코드', time.localtime(time.time()))"
   ]
  },
  {
   "cell_type": "code",
   "execution_count": 21,
   "metadata": {},
   "outputs": [
    {
     "data": {
      "text/plain": [
       "1580360940.6435113"
      ]
     },
     "execution_count": 21,
     "metadata": {},
     "output_type": "execute_result"
    }
   ],
   "source": [
    "import time\n",
    "\n",
    "time.time()"
   ]
  },
  {
   "cell_type": "code",
   "execution_count": 28,
   "metadata": {},
   "outputs": [
    {
     "data": {
      "text/plain": [
       "time.struct_time(tm_year=2020, tm_mon=1, tm_mday=30, tm_hour=14, tm_min=11, tm_sec=58, tm_wday=3, tm_yday=30, tm_isdst=0)"
      ]
     },
     "execution_count": 28,
     "metadata": {},
     "output_type": "execute_result"
    }
   ],
   "source": [
    "time.localtime(time.time())"
   ]
  },
  {
   "cell_type": "code",
   "execution_count": 29,
   "metadata": {},
   "outputs": [
    {
     "data": {
      "text/plain": [
       "'01/30/20'"
      ]
     },
     "execution_count": 29,
     "metadata": {},
     "output_type": "execute_result"
    }
   ],
   "source": [
    "time.strftime('%x', time.localtime(time.time()))"
   ]
  },
  {
   "cell_type": "code",
   "execution_count": 30,
   "metadata": {},
   "outputs": [
    {
     "data": {
      "text/plain": [
       "'Thu Jan 30 14:13:29 2020'"
      ]
     },
     "execution_count": 30,
     "metadata": {},
     "output_type": "execute_result"
    }
   ],
   "source": [
    "time.strftime('%c', time.localtime(time.time()))"
   ]
  },
  {
   "cell_type": "markdown",
   "metadata": {},
   "source": [
    "## pickle"
   ]
  },
  {
   "cell_type": "code",
   "execution_count": 10,
   "metadata": {},
   "outputs": [],
   "source": [
    "import pickle\n",
    "\n",
    "f = open(\"test.txt\", 'wb')\n",
    "data = {1: 'python', 2: 'you need'}\n",
    "pickle.dump(data, f)\n",
    "f.close()"
   ]
  },
  {
   "cell_type": "code",
   "execution_count": 12,
   "metadata": {},
   "outputs": [
    {
     "name": "stdout",
     "output_type": "stream",
     "text": [
      "{1: 'python', 2: 'you need'}\n"
     ]
    }
   ],
   "source": [
    "f = open(\"test.txt\", 'rb')\n",
    "\n",
    "data = pickle.load(f)\n",
    "print(data)"
   ]
  },
  {
   "cell_type": "markdown",
   "metadata": {},
   "source": [
    "## random\n",
    "\n",
    "- random은 난수(규칙이 없는 임의의 수)를 발생시키는 모듈이다"
   ]
  },
  {
   "cell_type": "code",
   "execution_count": 33,
   "metadata": {},
   "outputs": [
    {
     "data": {
      "text/plain": [
       "0.9453423960223082"
      ]
     },
     "execution_count": 33,
     "metadata": {},
     "output_type": "execute_result"
    }
   ],
   "source": [
    "import random\n",
    "\n",
    "random.random()"
   ]
  },
  {
   "cell_type": "code",
   "execution_count": 34,
   "metadata": {},
   "outputs": [
    {
     "data": {
      "text/plain": [
       "1"
      ]
     },
     "execution_count": 34,
     "metadata": {},
     "output_type": "execute_result"
    }
   ],
   "source": [
    "random.randint(1, 10)"
   ]
  }
 ],
 "metadata": {
  "kernelspec": {
   "display_name": "Python 3",
   "language": "python",
   "name": "python3"
  },
  "language_info": {
   "codemirror_mode": {
    "name": "ipython",
    "version": 3
   },
   "file_extension": ".py",
   "mimetype": "text/x-python",
   "name": "python",
   "nbconvert_exporter": "python",
   "pygments_lexer": "ipython3",
   "version": "3.7.6"
  }
 },
 "nbformat": 4,
 "nbformat_minor": 4
}
