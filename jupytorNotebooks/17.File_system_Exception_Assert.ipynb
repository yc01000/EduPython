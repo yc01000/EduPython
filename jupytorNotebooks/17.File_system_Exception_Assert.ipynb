{
 "cells": [
  {
   "cell_type": "markdown",
   "metadata": {},
   "source": [
    "# 17.1 Files 입출력\n",
    "\n",
    "### open(file 명) 을 호출하면 해당 file 을 open 하고 File Handle 객체를 반환한다.\n",
    "\n",
    "### f = open('file_name', 'r') : file read 를 위한 File Handle 객체를 변수 f 로 저장\n",
    "\n",
    "### f = open('file_name', 'w') : file write 를 위한 File Handle 객체를 변수 f 로 저장\n",
    "\n",
    "### f.close() : file close \n",
    "\n",
    "### 주요 methods\n",
    "\n",
    "- f.read()  \n",
    "- f.write()  "
   ]
  },
  {
   "cell_type": "markdown",
   "metadata": {},
   "source": [
    "### 새로운 file 생성"
   ]
  },
  {
   "cell_type": "code",
   "execution_count": 1,
   "metadata": {},
   "outputs": [],
   "source": [
    "f = open('test.txt', 'w')\n",
    "f.write('This is file write test\\n')\n",
    "f.write('This is 2nd line\\n')\n",
    "f.write('이것은 3번째 줄입니다.')\n",
    "f.close()"
   ]
  },
  {
   "cell_type": "markdown",
   "metadata": {},
   "source": [
    "## 이미 존재하는 file open"
   ]
  },
  {
   "cell_type": "code",
   "execution_count": 2,
   "metadata": {},
   "outputs": [
    {
     "name": "stdout",
     "output_type": "stream",
     "text": [
      "This is file write test\n",
      "This is 2nd line\n",
      "이것은 3번째 줄입니다.\n",
      "54\n"
     ]
    }
   ],
   "source": [
    "f = open('test.txt', 'r')  # text mode\n",
    "\n",
    "text = f.read()\n",
    "\n",
    "print(text)\n",
    "print(len(text))"
   ]
  },
  {
   "cell_type": "code",
   "execution_count": 3,
   "metadata": {},
   "outputs": [
    {
     "name": "stdout",
     "output_type": "stream",
     "text": [
      "b'This is file write test\\r\\nThis is 2nd line\\r\\n\\xc0\\xcc\\xb0\\xcd\\xc0\\xba 3\\xb9\\xf8\\xc2\\xb0 \\xc1\\xd9\\xc0\\xd4\\xb4\\xcf\\xb4\\xd9.'\n",
      "65\n"
     ]
    }
   ],
   "source": [
    "f = open('test.txt', 'rb')    # binary mode\n",
    "\n",
    "text = f.read()\n",
    "\n",
    "print(text)\n",
    "print(len(text))"
   ]
  },
  {
   "cell_type": "markdown",
   "metadata": {},
   "source": [
    "### File Handle 을 sequence 로 사용\n",
    "- readlines()"
   ]
  },
  {
   "cell_type": "code",
   "execution_count": 4,
   "metadata": {},
   "outputs": [
    {
     "name": "stdout",
     "output_type": "stream",
     "text": [
      "['This is file write test\\n', 'This is 2nd line\\n', '이것은 3번째 줄입니다.']\n",
      "3\n",
      "This is file write test\n",
      "\n",
      "This is 2nd line\n",
      "\n",
      "이것은 3번째 줄입니다.\n",
      "This is file write test\n",
      "This is 2nd line\n",
      "이것은 3번째 줄입니다.\n"
     ]
    }
   ],
   "source": [
    "f = open('test.txt', 'r')     \n",
    "\n",
    "lines = f.readlines()\n",
    "\n",
    "print(lines)\n",
    "print(len(lines))\n",
    "\n",
    "for line in lines:\n",
    "    print(line)\n",
    "    \n",
    "for line in lines:\n",
    "    print(line.rstrip())"
   ]
  },
  {
   "cell_type": "markdown",
   "metadata": {},
   "source": [
    "### File 의 내용 search"
   ]
  },
  {
   "cell_type": "code",
   "execution_count": 5,
   "metadata": {},
   "outputs": [
    {
     "name": "stdout",
     "output_type": "stream",
     "text": [
      "From: stephen.marquard@uct.ac.za\n",
      "From: louis@media.berkeley.edu\n",
      "From: zqian@umich.edu\n",
      "From: rjlowe@iupui.edu\n",
      "From: zqian@umich.edu\n",
      "From: rjlowe@iupui.edu\n"
     ]
    }
   ],
   "source": [
    "f = open('emailbox-short.txt')\n",
    "count = 0\n",
    "\n",
    "for line in f:\n",
    "    if count > 5:\n",
    "        break\n",
    "    if line.startswith('From: '):\n",
    "        print(line.rstrip())\n",
    "        count += 1"
   ]
  },
  {
   "cell_type": "markdown",
   "metadata": {},
   "source": [
    "## file path 지정"
   ]
  },
  {
   "cell_type": "code",
   "execution_count": 6,
   "metadata": {},
   "outputs": [
    {
     "data": {
      "text/plain": [
       "['.ipynb_checkpoints',\n",
       " '00.TableOfContets.ipynb',\n",
       " '01.print and help.ipynb',\n",
       " '02.arithmetic calculation.ipynb',\n",
       " '03.data-types.ipynb',\n",
       " '04.variable and practice.ipynb',\n",
       " '05.functions-variable scope-builtin function.ipynb',\n",
       " '06.list-and-tuple.ipynb',\n",
       " '07.for-loop-range.ipynb',\n",
       " '08.if-comparison-logical operation.ipynb']"
      ]
     },
     "execution_count": 6,
     "metadata": {},
     "output_type": "execute_result"
    }
   ],
   "source": [
    "import os\n",
    "\n",
    "os.listdir()[:10]"
   ]
  },
  {
   "cell_type": "code",
   "execution_count": 7,
   "metadata": {},
   "outputs": [
    {
     "data": {
      "text/plain": [
       "'C:\\\\Users\\\\trimu\\\\OneDrive\\\\AlgorithmPython-4days\\\\jupytorNotebooks\\\\test.txt'"
      ]
     },
     "execution_count": 7,
     "metadata": {},
     "output_type": "execute_result"
    }
   ],
   "source": [
    "os.path.abspath('test.txt')"
   ]
  },
  {
   "cell_type": "code",
   "execution_count": 8,
   "metadata": {},
   "outputs": [
    {
     "data": {
      "text/plain": [
       "'C:\\\\Users\\\\trimu\\\\Desktop\\\\Python-Teaching\\\\jupytorNotebooks\\\\test.txt'"
      ]
     },
     "execution_count": 8,
     "metadata": {},
     "output_type": "execute_result"
    }
   ],
   "source": [
    "os.path.join('C:\\\\Users\\\\trimu\\\\Desktop\\\\Python-Teaching\\\\jupytorNotebooks',\n",
    "                     'test.txt')"
   ]
  },
  {
   "cell_type": "code",
   "execution_count": 9,
   "metadata": {},
   "outputs": [
    {
     "data": {
      "text/plain": [
       "'C:\\\\Users\\\\trimu\\\\OneDrive\\\\AlgorithmPython-4days\\\\jupytorNotebooks'"
      ]
     },
     "execution_count": 9,
     "metadata": {},
     "output_type": "execute_result"
    }
   ],
   "source": [
    "os.path.dirname(os.path.abspath('test.txt'))"
   ]
  },
  {
   "cell_type": "code",
   "execution_count": 10,
   "metadata": {},
   "outputs": [
    {
     "data": {
      "text/plain": [
       "True"
      ]
     },
     "execution_count": 10,
     "metadata": {},
     "output_type": "execute_result"
    }
   ],
   "source": [
    "os.path.exists('test.txt')"
   ]
  },
  {
   "cell_type": "markdown",
   "metadata": {},
   "source": [
    "## with open 문으로 file 읽기/쓰기\n",
    "\n",
    "#### with 문을 이용하면 with 블록을 벗어나는 순간 열린 파일 객체가 자동으로 close되어 편리함."
   ]
  },
  {
   "cell_type": "code",
   "execution_count": 11,
   "metadata": {},
   "outputs": [
    {
     "name": "stdout",
     "output_type": "stream",
     "text": [
      "This is file write test\n",
      "This is 2nd line\n",
      "이것은 3번째 줄입니다.\n"
     ]
    }
   ],
   "source": [
    "with open('test.txt', \"r\") as file2:\n",
    "    data = file2.read()\n",
    "\n",
    "print(data)"
   ]
  },
  {
   "cell_type": "code",
   "execution_count": 12,
   "metadata": {},
   "outputs": [],
   "source": [
    "with open('test.txt', \"w\") as file3:\n",
    "    data = file3.write(\"This is 3rd line\")"
   ]
  },
  {
   "cell_type": "markdown",
   "metadata": {},
   "source": [
    "# 17.2 Exception Handling\n",
    "\n",
    "## 기본 구문\n",
    "```\n",
    "\n",
    "try: \n",
    "    예외를 유발할 수 있는 구문 \n",
    "except <예외 종류>: \n",
    "    예외 처리를 수행하는 구문\n",
    "finally:\n",
    "    정상, 예외 모든 경우에 수행되는 구문\n",
    "```"
   ]
  },
  {
   "cell_type": "code",
   "execution_count": 13,
   "metadata": {},
   "outputs": [
    {
     "name": "stdout",
     "output_type": "stream",
     "text": [
      "에러 발생\n"
     ]
    }
   ],
   "source": [
    "try:\n",
    "    a = 10 / 0\n",
    "except:\n",
    "    print('에러 발생')"
   ]
  },
  {
   "cell_type": "markdown",
   "metadata": {},
   "source": [
    "### 특정 예외 발생"
   ]
  },
  {
   "cell_type": "code",
   "execution_count": 14,
   "metadata": {},
   "outputs": [
    {
     "name": "stdout",
     "output_type": "stream",
     "text": [
      "에러 발생\n"
     ]
    }
   ],
   "source": [
    "try:\n",
    "    a = 10 / 0\n",
    "except ZeroDivisionError:\n",
    "    print('에러 발생')"
   ]
  },
  {
   "cell_type": "markdown",
   "metadata": {},
   "source": [
    "### finally - 무조건 수행"
   ]
  },
  {
   "cell_type": "code",
   "execution_count": 14,
   "metadata": {},
   "outputs": [
    {
     "name": "stdout",
     "output_type": "stream",
     "text": [
      "에러 발생\n",
      "무조건 수행\n"
     ]
    }
   ],
   "source": [
    "try:\n",
    "    a = 10 / 0\n",
    "    print(a)\n",
    "except :\n",
    "    print('에러 발생')\n",
    "finally:\n",
    "    print(\"무조건 수행\")"
   ]
  },
  {
   "cell_type": "markdown",
   "metadata": {},
   "source": [
    "### 일반적 모든 예외 처리"
   ]
  },
  {
   "cell_type": "code",
   "execution_count": 15,
   "metadata": {},
   "outputs": [
    {
     "name": "stdout",
     "output_type": "stream",
     "text": [
      "에러 발생 =  division by zero\n"
     ]
    }
   ],
   "source": [
    "try:\n",
    "    a = 10 / 0\n",
    "    print(a)\n",
    "except Exception as e:\n",
    "    print('에러 발생 = ', e)"
   ]
  },
  {
   "cell_type": "markdown",
   "metadata": {},
   "source": [
    "### raise Exception\n",
    "\n",
    "- 인위적으로 예외 발생"
   ]
  },
  {
   "cell_type": "code",
   "execution_count": 15,
   "metadata": {},
   "outputs": [
    {
     "name": "stdout",
     "output_type": "stream",
     "text": [
      "3의 배수를 입력하세요: 7\n",
      "예외가 발생했습니다. 3의 배수가 아닙니다.\n"
     ]
    }
   ],
   "source": [
    "try:\n",
    "    x = int(input('3의 배수를 입력하세요: '))\n",
    "    if x % 3 != 0:                                 # x가 3의 배수가 아니면\n",
    "        raise Exception('3의 배수가 아닙니다.')    # 예외를 발생시킴\n",
    "    print(x)\n",
    "except Exception as e:                             # 예외가 발생했을 때 실행됨\n",
    "    print('예외가 발생했습니다.', e)"
   ]
  },
  {
   "cell_type": "markdown",
   "metadata": {},
   "source": [
    "### 예외처리 세분"
   ]
  },
  {
   "cell_type": "code",
   "execution_count": 17,
   "metadata": {},
   "outputs": [
    {
     "name": "stdout",
     "output_type": "stream",
     "text": [
      "아무 숫자나 입력하세요: 23\n",
      "0.43478260869565216\n"
     ]
    }
   ],
   "source": [
    "try:\n",
    "    x = int(input('아무 숫자나 입력하세요: '))\n",
    "    print(10 / x)\n",
    "except ValueError:\n",
    "    print(\"숫자가 아닙니다.\")\n",
    "except ZeroDivisionError:\n",
    "    print(\"0 은 입력 불가합니다.\")"
   ]
  },
  {
   "cell_type": "markdown",
   "metadata": {},
   "source": [
    "## IO error 처리"
   ]
  },
  {
   "cell_type": "code",
   "execution_count": 18,
   "metadata": {},
   "outputs": [
    {
     "name": "stderr",
     "output_type": "stream",
     "text": [
      "file reading error : test2.txt"
     ]
    }
   ],
   "source": [
    "import sys\n",
    "file_name = 'test2.txt'\n",
    "\n",
    "try:\n",
    "    f = open(file_name, 'r')\n",
    "    text = f.read()\n",
    "    f.close()\n",
    "except IOError:\n",
    "    sys.stderr.write('file reading error : ' + file_name)\n",
    "except OSError as err:\n",
    "    print(\"OS error: {0}\".format(err))\n",
    "except ValueError:\n",
    "    print(\"Could not convert data to an integer.\")\n",
    "except:\n",
    "    print(\"Unexpected error:\")"
   ]
  },
  {
   "cell_type": "markdown",
   "metadata": {},
   "source": [
    "### assert\n",
    "\n",
    "- 반드시 확실해야 하는 경우 check 하여 인위적 예외 발생"
   ]
  },
  {
   "cell_type": "code",
   "execution_count": 19,
   "metadata": {},
   "outputs": [],
   "source": [
    "# 3의 배수가 아니면 예외 발생, 3의 배수이면 그냥 넘어감\n",
    "x = 3\n",
    "assert x % 3 == 0, '3의 배수가 아닙니다.'    "
   ]
  },
  {
   "cell_type": "code",
   "execution_count": 5,
   "metadata": {},
   "outputs": [
    {
     "ename": "AssertionError",
     "evalue": "3의 배수가 아닙니다.",
     "output_type": "error",
     "traceback": [
      "\u001b[1;31m---------------------------------------------------------------------------\u001b[0m",
      "\u001b[1;31mAssertionError\u001b[0m                            Traceback (most recent call last)",
      "\u001b[1;32m<ipython-input-5-f85097756c8b>\u001b[0m in \u001b[0;36m<module>\u001b[1;34m\u001b[0m\n\u001b[0;32m      1\u001b[0m \u001b[1;31m# 3의 배수가 아니면 예외 발생, 3의 배수이면 그냥 넘어감\u001b[0m\u001b[1;33m\u001b[0m\u001b[1;33m\u001b[0m\u001b[1;33m\u001b[0m\u001b[0m\n\u001b[0;32m      2\u001b[0m \u001b[0mx\u001b[0m \u001b[1;33m=\u001b[0m \u001b[1;36m4\u001b[0m\u001b[1;33m\u001b[0m\u001b[1;33m\u001b[0m\u001b[0m\n\u001b[1;32m----> 3\u001b[1;33m \u001b[1;32massert\u001b[0m \u001b[0mx\u001b[0m \u001b[1;33m%\u001b[0m \u001b[1;36m3\u001b[0m \u001b[1;33m==\u001b[0m \u001b[1;36m0\u001b[0m\u001b[1;33m,\u001b[0m \u001b[1;34m'3의 배수가 아닙니다.'\u001b[0m\u001b[1;33m\u001b[0m\u001b[1;33m\u001b[0m\u001b[0m\n\u001b[0m",
      "\u001b[1;31mAssertionError\u001b[0m: 3의 배수가 아닙니다."
     ]
    }
   ],
   "source": [
    "# 3의 배수가 아니면 예외 발생, 3의 배수이면 그냥 넘어감\n",
    "x = 4\n",
    "assert x % 3 == 0, '3의 배수가 아닙니다.'    "
   ]
  },
  {
   "cell_type": "markdown",
   "metadata": {},
   "source": [
    "### 연습문제\n",
    "\n",
    "1) 다음 문장을 file 에 write 하고 다시 읽어서 print 한다.\n",
    "\n",
    "\"한국소프트웨어 산업협회 훈련과정 :   \n",
    "알고리즘으로 배우는 Python\""
   ]
  },
  {
   "cell_type": "markdown",
   "metadata": {},
   "source": [
    "2) 다음 file 을 읽어서 가장 빈번하게 나타나는 top 10 단어들을 출력\n",
    "    - \"poet.txt\" file 을 open\n",
    "    - count dictionary 생성 \n",
    "    - count.items() 를 이용하여 (key, value) list 생성\n",
    "    - value 의 reverse 순으로 정렬 -> sorted(list, reverse=True)"
   ]
  }
 ],
 "metadata": {
  "kernelspec": {
   "display_name": "Python 3",
   "language": "python",
   "name": "python3"
  },
  "language_info": {
   "codemirror_mode": {
    "name": "ipython",
    "version": 3
   },
   "file_extension": ".py",
   "mimetype": "text/x-python",
   "name": "python",
   "nbconvert_exporter": "python",
   "pygments_lexer": "ipython3",
   "version": "3.7.3"
  }
 },
 "nbformat": 4,
 "nbformat_minor": 2
}
