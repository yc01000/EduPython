{
 "cells": [
  {
   "cell_type": "code",
   "execution_count": 1,
   "metadata": {},
   "outputs": [
    {
     "name": "stdout",
     "output_type": "stream",
     "text": [
      "table created successfully\n"
     ]
    }
   ],
   "source": [
    "import sqlite3\n",
    "con = sqlite3.connect('yckimdb.sqlite')\n",
    "cur = con.cursor()\n",
    "try:        \n",
    "    cur.execute(\"DROP TABLE IF EXISTS tb_school\")\n",
    "    cur.execute(\"CREATE TABLE tb_school (email TEXT, count INTEGER)\")\n",
    "    print ('table created successfully')\n",
    "except Exception as e:\n",
    "    print ('error in operation, ', e)\n",
    "    con.rollback()\n",
    "    con.close()"
   ]
  },
  {
   "cell_type": "code",
   "execution_count": null,
   "metadata": {},
   "outputs": [],
   "source": []
  }
 ],
 "metadata": {
  "kernelspec": {
   "display_name": "Python 3",
   "language": "python",
   "name": "python3"
  },
  "language_info": {
   "codemirror_mode": {
    "name": "ipython",
    "version": 3
   },
   "file_extension": ".py",
   "mimetype": "text/x-python",
   "name": "python",
   "nbconvert_exporter": "python",
   "pygments_lexer": "ipython3",
   "version": "3.7.3"
  }
 },
 "nbformat": 4,
 "nbformat_minor": 2
}
