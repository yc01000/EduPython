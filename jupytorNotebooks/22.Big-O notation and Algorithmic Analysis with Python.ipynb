{
 "cells": [
  {
   "cell_type": "markdown",
   "metadata": {},
   "source": [
    "# 22. Big-O 표기법 (Big-O notation)\n",
    "\n",
    "- 시간복잡도를 측정하는 방법\n",
    "\n",
    "\n",
    "- 동일한 문제를 여러가지 알고리즘으로 구현할 수 있으나 각 알고리즘이 얼마나 빠른지 비교할 수 있는 기준으로 Big-O 표기법 사용.\n",
    "\n",
    "<img src=\"big_o_chart.jpg\" width=\"300\">\n",
    "\n",
    "\n",
    "- Big-O 표기법은 algorithm 에 어떤 input 이 들어가서 결과가 나올 때까지 몇단계의 실행문을 거치는지 표시해 준다. 예를 들어, n 번의 실행문을 거치면 O(n), $n^2 $번이면 O($n^2$) 으로 표시한다.  \n",
    "\n",
    "\n",
    "- Jupyter notebook 의 경우 %timeit magic command 로 두가지 알고리즘의 수행시간을 비교할 수 있으나, CPU 속도에 dependent 하므로 알고리즘의 복잡성을 측정하는 기준으로 사용하기 어렵다. \n",
    "\n",
    "\n",
    "- 일반적인 Big-O 기준\n",
    "\n",
    "> insertion / removel / access / push / pop - O(1)  \n",
    "> Linear Searching - O(n)  \n",
    "> List Push/Pop - O(1)  \n",
    "> List slice / concatenate - O(n)    \n",
    "> Bubble Sort : O($n^2$)  \n",
    "> Sort - O(nlogn) : merge sort, quick sort  \n",
    "> for / map / filter / reduce - O(n)  \n"
   ]
  },
  {
   "cell_type": "markdown",
   "metadata": {},
   "source": [
    "### O(1) : input 크기에 무관하게 항상 한번의 연산만 수행"
   ]
  },
  {
   "cell_type": "code",
   "execution_count": 5,
   "metadata": {},
   "outputs": [
    {
     "name": "stdout",
     "output_type": "stream",
     "text": [
      "16\n"
     ]
    }
   ],
   "source": [
    "def constant_algo(items):  \n",
    "    result = items[0] * items[0]\n",
    "    print (result)\n",
    "\n",
    "constant_algo([4, 5, 6, 8])  "
   ]
  },
  {
   "cell_type": "markdown",
   "metadata": {},
   "source": [
    "### O(n) : 선형복잡도 (Linear Complexity)\n",
    "\n",
    "- 입력자료의 갯수에 따라 수행 시간이 선형으로 증가 "
   ]
  },
  {
   "cell_type": "code",
   "execution_count": 6,
   "metadata": {},
   "outputs": [],
   "source": [
    "lst = []\n",
    "def linear_algo(items):  \n",
    "    for item in items:\n",
    "        lst.append(item)"
   ]
  },
  {
   "cell_type": "code",
   "execution_count": 7,
   "metadata": {},
   "outputs": [
    {
     "name": "stdout",
     "output_type": "stream",
     "text": [
      "10.8 µs ± 817 ns per loop (mean ± std. dev. of 7 runs, 100000 loops each)\n"
     ]
    }
   ],
   "source": [
    "%timeit linear_algo(list(range(100)))  "
   ]
  },
  {
   "cell_type": "code",
   "execution_count": 8,
   "metadata": {},
   "outputs": [
    {
     "name": "stdout",
     "output_type": "stream",
     "text": [
      "115 µs ± 20 µs per loop (mean ± std. dev. of 7 runs, 10000 loops each)\n"
     ]
    }
   ],
   "source": [
    "%timeit linear_algo(list(range(1000)))  "
   ]
  },
  {
   "cell_type": "code",
   "execution_count": 10,
   "metadata": {},
   "outputs": [],
   "source": [
    "def multiply_from_1_to_n(n):  \n",
    "    product = 1\n",
    "    for i in range(n):\n",
    "        product = product * (i+1)\n",
    "    return product"
   ]
  },
  {
   "cell_type": "code",
   "execution_count": 16,
   "metadata": {},
   "outputs": [
    {
     "name": "stdout",
     "output_type": "stream",
     "text": [
      "6.18 µs ± 889 ns per loop (mean ± std. dev. of 7 runs, 100000 loops each)\n"
     ]
    }
   ],
   "source": [
    "%timeit multiply_from_1_to_n(50)"
   ]
  },
  {
   "cell_type": "code",
   "execution_count": 17,
   "metadata": {},
   "outputs": [
    {
     "name": "stdout",
     "output_type": "stream",
     "text": [
      "9.9 ms ± 377 µs per loop (mean ± std. dev. of 7 runs, 100 loops each)\n"
     ]
    }
   ],
   "source": [
    "%timeit multiply_from_1_to_n(50 * 100)"
   ]
  },
  {
   "cell_type": "markdown",
   "metadata": {},
   "source": [
    "### O($n^2$) : 제곱증가 복잡도 (Quadratic Complexity)\n",
    "\n",
    "-  입력 자료 갯수의 제곱에 비례하여 수행 시간 증가"
   ]
  },
  {
   "cell_type": "code",
   "execution_count": 18,
   "metadata": {},
   "outputs": [],
   "source": [
    "def quadratic_algo(items):  \n",
    "    n2items = []\n",
    "    for item in items:\n",
    "        for item2 in items:\n",
    "            n2items.append(item2)"
   ]
  },
  {
   "cell_type": "code",
   "execution_count": 19,
   "metadata": {},
   "outputs": [
    {
     "name": "stdout",
     "output_type": "stream",
     "text": [
      "744 µs ± 68.1 µs per loop (mean ± std. dev. of 7 runs, 1000 loops each)\n"
     ]
    }
   ],
   "source": [
    "%timeit quadratic_algo(list(range(100)))  "
   ]
  },
  {
   "cell_type": "code",
   "execution_count": 20,
   "metadata": {},
   "outputs": [
    {
     "name": "stdout",
     "output_type": "stream",
     "text": [
      "2.99 ms ± 415 µs per loop (mean ± std. dev. of 7 runs, 100 loops each)\n"
     ]
    }
   ],
   "source": [
    "%timeit quadratic_algo(list(range(200)))  "
   ]
  },
  {
   "cell_type": "markdown",
   "metadata": {},
   "source": [
    "### O(log n)\n",
    "\n",
    "big-O notation 에서 사용하는 log 는 일반적으로 밑이 2 인 log 이다. 즉,\n",
    "\n",
    "$$2^0 = 1 \\;\\;\\;\\;\\;\\; log_2{1} = 0$$\n",
    "$$2^1 = 2 \\;\\;\\;\\;\\;\\; log_2{2} = 1$$\n",
    "$$2^2 = 4 \\;\\;\\;\\;\\;\\; log_2{4} = 2$$\n",
    "$$2^3 = 8 \\;\\;\\;\\;\\;\\; log_2{8} = 3$$\n",
    "$$2^{10} = 1024 \\;\\;\\;\\;\\;\\; log_2{1024} = 10$$\n",
    "\n",
    "log 안의 숫자가 2 배로 늘어도 log 값은 선형으로 증가한다.  \n",
    "대표적인 O(log N) 알고리즘은 이진탐색(binary search) 이다. 이진탐색은 target value 를 찾을 때까지 input data 를 절반씩 잘라내어 탐색하므로 data 의 log 값 만큼만 계산 시간이 증가한다."
   ]
  },
  {
   "cell_type": "code",
   "execution_count": 35,
   "metadata": {},
   "outputs": [
    {
     "name": "stdout",
     "output_type": "stream",
     "text": [
      "10.0\n",
      "19.96578428466209\n"
     ]
    }
   ],
   "source": [
    "import math\n",
    "\n",
    "print(math.log(1024, 2))\n",
    "print(math.log(1024000, 2))"
   ]
  },
  {
   "cell_type": "markdown",
   "metadata": {},
   "source": [
    "### 이진 탐색 (Binary Search)\n",
    "\n",
    "O(log n)"
   ]
  },
  {
   "cell_type": "code",
   "execution_count": 24,
   "metadata": {},
   "outputs": [],
   "source": [
    "def findnumber_Binary(n, lst):\n",
    "    start = 0\n",
    "    end  = len(lst) \n",
    "    numbers = lst\n",
    "    search_count = 0\n",
    "    \n",
    "    while (start < end):\n",
    "        search_count += 1\n",
    "        middle = len(numbers) // 2                    # 가운데의 위치\n",
    "        \n",
    "        if numbers[middle] == n: \n",
    "            return search_count\n",
    "        elif numbers[middle] > n:                  # 찾으려는 단어가 아래쪽 절반에 위치\n",
    "            start, end = 0, middle\n",
    "        else:\n",
    "            start, end = middle+1, len(numbers)   # 찾으려는 단어가 위쪽 절반에 위치\n",
    "            \n",
    "        numbers =  numbers[start : end]"
   ]
  },
  {
   "cell_type": "code",
   "execution_count": 28,
   "metadata": {},
   "outputs": [
    {
     "name": "stdout",
     "output_type": "stream",
     "text": [
      "3.08 µs ± 411 ns per loop (mean ± std. dev. of 7 runs, 100000 loops each)\n"
     ]
    }
   ],
   "source": [
    "n = 100\n",
    "lst = list(range(1, n+1))\n",
    "\n",
    "%timeit findnumber_Binary(50, lst)"
   ]
  },
  {
   "cell_type": "code",
   "execution_count": 31,
   "metadata": {},
   "outputs": [
    {
     "name": "stdout",
     "output_type": "stream",
     "text": [
      "32.1 µs ± 1.3 µs per loop (mean ± std. dev. of 7 runs, 10000 loops each)\n"
     ]
    }
   ],
   "source": [
    "n = 100 * 100\n",
    "lst = list(range(1, n+1))\n",
    "\n",
    "%timeit findnumber_Binary(50, lst)"
   ]
  },
  {
   "cell_type": "markdown",
   "metadata": {},
   "source": [
    "### Big-O 연습문제"
   ]
  },
  {
   "cell_type": "markdown",
   "metadata": {},
   "source": [
    "1) 다음 code 의 Big-O 수행시간이 O(n^2) 인 이유 설명\n",
    "\n",
    "    test = 0\n",
    "    for i in range(n):\n",
    "        for j in range(n):\n",
    "            test = test + i * j"
   ]
  },
  {
   "cell_type": "markdown",
   "metadata": {},
   "source": [
    "2) 다음 code 의 Big-O 수행시간이 O(n) 인 이유 설명\n",
    "\n",
    "    test = 0\n",
    "    for i in range(n):\n",
    "        test = test + 1\n",
    "    for j in range(n)\n",
    "        test = test - 1"
   ]
  },
  {
   "cell_type": "markdown",
   "metadata": {},
   "source": [
    "3) 다음 code 의 Big-O 수행시간이 O(n) 인 이유 설명\n",
    "\n",
    "    i = n\n",
    "    while i > 0:\n",
    "        k = 2  + 2\n",
    "        i = i // 2"
   ]
  }
 ],
 "metadata": {
  "kernelspec": {
   "display_name": "Python 3",
   "language": "python",
   "name": "python3"
  },
  "language_info": {
   "codemirror_mode": {
    "name": "ipython",
    "version": 3
   },
   "file_extension": ".py",
   "mimetype": "text/x-python",
   "name": "python",
   "nbconvert_exporter": "python",
   "pygments_lexer": "ipython3",
   "version": "3.7.3"
  }
 },
 "nbformat": 4,
 "nbformat_minor": 2
}
