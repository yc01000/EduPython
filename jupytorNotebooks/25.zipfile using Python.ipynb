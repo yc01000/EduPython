{
 "cells": [
  {
   "cell_type": "markdown",
   "metadata": {},
   "source": [
    "# 25. Python 을 이용하여 zipfile handling 하는 방법\n",
    "\n",
    "### zipfile\n",
    "- zip archive object 를 생성하고 개별 file 을 add\n",
    "\n",
    "### shutl\n",
    "- 전체 directory 를 빠르게 compress"
   ]
  },
  {
   "cell_type": "code",
   "execution_count": 1,
   "metadata": {},
   "outputs": [],
   "source": [
    "# sample file 2 개 생성\n",
    "f = open('new_file_1.txt', 'w')\n",
    "f.write('이것은 첫번째 테스트 file 입니다.')\n",
    "f.close()\n",
    "\n",
    "f = open('new_file_2.txt', 'w')\n",
    "f.write('두번째 테스트 file 입니다')\n",
    "f.close()"
   ]
  },
  {
   "cell_type": "code",
   "execution_count": 2,
   "metadata": {},
   "outputs": [],
   "source": [
    "import zipfile"
   ]
  },
  {
   "cell_type": "code",
   "execution_count": 3,
   "metadata": {},
   "outputs": [],
   "source": [
    "# empty zipfile object 생성\n",
    "comp_file = zipfile.ZipFile('new_compressed_file.zip', 'w')"
   ]
  },
  {
   "cell_type": "code",
   "execution_count": 4,
   "metadata": {},
   "outputs": [],
   "source": [
    "# empty object 에 압축할 file 추가\n",
    "comp_file.write('new_file_1.txt')\n",
    "comp_file.write('new_file_2.txt')"
   ]
  },
  {
   "cell_type": "code",
   "execution_count": 5,
   "metadata": {},
   "outputs": [],
   "source": [
    "comp_file.close()"
   ]
  },
  {
   "cell_type": "markdown",
   "metadata": {},
   "source": [
    "## Extract from zipfile"
   ]
  },
  {
   "cell_type": "code",
   "execution_count": 6,
   "metadata": {},
   "outputs": [],
   "source": [
    "# 읽어들일 zipfile object 생성\n",
    "zip_object = zipfile.ZipFile('new_compressed_file.zip', 'r')\n",
    "\n",
    "# 새로운 directory 에 모든 file 압축 해제\n",
    "zip_object.extractall('unzipped_content')"
   ]
  },
  {
   "cell_type": "code",
   "execution_count": 7,
   "metadata": {},
   "outputs": [
    {
     "data": {
      "text/plain": [
       "'unzipped_content_2\\\\new_file_1.txt'"
      ]
     },
     "execution_count": 7,
     "metadata": {},
     "output_type": "execute_result"
    }
   ],
   "source": [
    "# 개별 file 해제 (file name, 저장 directory)\n",
    "zip_object.extract('new_file_1.txt', 'unzipped_content_2')"
   ]
  },
  {
   "cell_type": "markdown",
   "metadata": {},
   "source": [
    "## shutil Library"
   ]
  },
  {
   "cell_type": "code",
   "execution_count": 8,
   "metadata": {},
   "outputs": [],
   "source": [
    "import shutil"
   ]
  },
  {
   "cell_type": "code",
   "execution_count": 9,
   "metadata": {},
   "outputs": [
    {
     "data": {
      "text/plain": [
       "'C:\\\\Users\\\\trimu\\\\Desktop\\\\Algorithm 으로 배우는 Python\\\\jupytorNotebooks\\\\zipped_content3.zip'"
      ]
     },
     "execution_count": 9,
     "metadata": {},
     "output_type": "execute_result"
    }
   ],
   "source": [
    "# make_archive (압축 file name, format, source directory)\n",
    "shutil.make_archive('zipped_content3', 'zip', 'unzipped_content')"
   ]
  },
  {
   "cell_type": "code",
   "execution_count": 10,
   "metadata": {},
   "outputs": [],
   "source": [
    "# archived file 압축 해제 : unpack(압축해제할 filename, target directory, format)\n",
    "shutil.unpack_archive('zipped_content3.zip', 'unzipped_content_3', 'zip')"
   ]
  }
 ],
 "metadata": {
  "kernelspec": {
   "display_name": "Python 3",
   "language": "python",
   "name": "python3"
  },
  "language_info": {
   "codemirror_mode": {
    "name": "ipython",
    "version": 3
   },
   "file_extension": ".py",
   "mimetype": "text/x-python",
   "name": "python",
   "nbconvert_exporter": "python",
   "pygments_lexer": "ipython3",
   "version": "3.7.3"
  }
 },
 "nbformat": 4,
 "nbformat_minor": 2
}
